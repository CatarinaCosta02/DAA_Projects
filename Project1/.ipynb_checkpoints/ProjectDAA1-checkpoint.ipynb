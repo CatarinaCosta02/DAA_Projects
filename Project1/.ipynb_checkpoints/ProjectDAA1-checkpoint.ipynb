{
 "cells": [
  {
   "cell_type": "markdown",
   "id": "a1f5ba0c-89c0-4bfc-810a-eceb12f2607b",
   "metadata": {},
   "source": [
    "## Import Libraries"
   ]
  },
  {
   "cell_type": "code",
   "execution_count": 3,
   "id": "930d4f4d-25f7-4cfb-9e7a-93b6867f5c49",
   "metadata": {},
   "outputs": [],
   "source": [
    "import os\n",
    "import pandas as pd\n",
    "import numpy as np\n",
    "import datetime\n",
    "import seaborn as sns\n",
    "import matplotlib.pyplot as plt\n",
    "%matplotlib inline\n",
    "import plotly.express as px\n",
    "import plotly.graph_objects as go\n",
    "import matplotlib.dates as mdates \n",
    "xformatter = mdates.DateFormatter('%H:%M') # for time axis plots\n",
    "\n",
    "# import plotly.offline as py\n",
    "# py.init_notebook_mode(connected=True)\n",
    "\n",
    "\n",
    "import sklearn\n",
    "from scipy.optimize import curve_fit\n",
    "\n",
    "import warnings\n",
    "warnings.filterwarnings('ignore')"
   ]
  },
  {
   "cell_type": "markdown",
   "id": "ece7a3fc-0639-4a8f-8460-2359280fd32d",
   "metadata": {},
   "source": [
    "# Train Test Split\n",
    "\n",
    "Split the data into a training set and a testing set."
   ]
  },
  {
   "cell_type": "code",
   "execution_count": null,
   "id": "67df7dc6-8dfa-441f-a6e1-49bd36fb7339",
   "metadata": {},
   "outputs": [],
   "source": []
  },
  {
   "cell_type": "code",
   "execution_count": null,
   "id": "2d8fb748-71ac-44f1-ac25-f883361531a7",
   "metadata": {},
   "outputs": [],
   "source": []
  },
  {
   "cell_type": "markdown",
   "id": "843a8c84-aa78-495a-9238-24afc060bfad",
   "metadata": {},
   "source": [
    "# Train a Model\n",
    "\n",
    "Now it's time to train a Decision Tree Classifier. \n",
    "\n",
    "**Call the DecisionTreeClassifier() model from sklearn and fit the model to the training data.**"
   ]
  },
  {
   "cell_type": "code",
   "execution_count": null,
   "id": "dcf31c51-42a4-4e72-9066-28c48295996f",
   "metadata": {},
   "outputs": [],
   "source": []
  },
  {
   "cell_type": "code",
   "execution_count": null,
   "id": "c73581d4-8810-411c-8322-dd5e693ca70d",
   "metadata": {},
   "outputs": [],
   "source": []
  },
  {
   "cell_type": "code",
   "execution_count": null,
   "id": "a5e0d0c6-41d6-4ebd-92f7-ae27165b7423",
   "metadata": {},
   "outputs": [],
   "source": []
  },
  {
   "cell_type": "markdown",
   "id": "31323b46-ab67-4568-9cfa-0aa21ed62115",
   "metadata": {},
   "source": [
    "#### 1. Plot the resultant tree (plot_tree) and save it as figure (.png)"
   ]
  },
  {
   "cell_type": "code",
   "execution_count": null,
   "id": "aec4420b-d27e-45a3-82a6-01e3ef0872ed",
   "metadata": {},
   "outputs": [],
   "source": []
  },
  {
   "cell_type": "markdown",
   "id": "fc1beb6b-8c9a-4d2a-8819-80308e95dfd1",
   "metadata": {},
   "source": [
    "#### 2. Using export_text to represent the tree. Save it in a log file"
   ]
  },
  {
   "cell_type": "code",
   "execution_count": null,
   "id": "96a31a9e-cca2-4624-b942-5049f8ae2ba6",
   "metadata": {},
   "outputs": [],
   "source": []
  },
  {
   "cell_type": "markdown",
   "id": "3541a8a1-1304-4399-a86b-5a567b8bbc35",
   "metadata": {},
   "source": [
    "# Model Evaluation\n",
    "\n",
    "Now let's get predictions from the model and create a confusion matrix and a classification report."
   ]
  },
  {
   "cell_type": "code",
   "execution_count": null,
   "id": "d31cfe03-5898-47da-adcf-ca186a239304",
   "metadata": {},
   "outputs": [],
   "source": []
  },
  {
   "cell_type": "code",
   "execution_count": null,
   "id": "d3777439-809f-431a-931b-0821132cd644",
   "metadata": {},
   "outputs": [],
   "source": []
  },
  {
   "cell_type": "code",
   "execution_count": null,
   "id": "245a7d9a-336c-4acf-879f-26ffa1b10382",
   "metadata": {},
   "outputs": [],
   "source": []
  },
  {
   "cell_type": "code",
   "execution_count": null,
   "id": "93422edd-be02-43af-bed2-394271426322",
   "metadata": {},
   "outputs": [],
   "source": []
  },
  {
   "cell_type": "markdown",
   "id": "37ed23cb-bb02-45d7-bcc1-18010fb165a9",
   "metadata": {},
   "source": [
    "Let's see if we can tune the parameters to try to get even better. It is unlikely, and you probably would be satisfied with these results in real like because the data set is quite small, but I just want you to practice using GridSearch."
   ]
  },
  {
   "cell_type": "code",
   "execution_count": null,
   "id": "ada3bd1c-4289-47ad-aeb3-7d5a3379bb86",
   "metadata": {},
   "outputs": [],
   "source": []
  },
  {
   "cell_type": "markdown",
   "id": "a9092858-0a1c-40ce-8202-44f34faef871",
   "metadata": {},
   "source": [
    "## Gridsearch Practice\n",
    "\n",
    "- Finding the right parameters is a tricky task\n",
    "- The idea of creating a 'grid' of parameters and trying out all the possible combinations is called a Gridsearch\n",
    "    - This method is common enough that Scikit-learn has this functionality built in with GridSearchCV (CV stands for Cross-Validation)\n",
    "    - GridSearchCV takes a dictionary that describes the parameters that should be tried and the model to train\n",
    "    - The grid of parameters is defined as a dictionary where the keys are the parameters and the values are the settings to be tested"
   ]
  },
  {
   "cell_type": "code",
   "execution_count": null,
   "id": "720a57d0-8fe8-463d-ad52-ce75ffe80cfa",
   "metadata": {},
   "outputs": [],
   "source": []
  },
  {
   "cell_type": "markdown",
   "id": "613f6e74-a727-4505-8966-c039980573ad",
   "metadata": {},
   "source": [
    "- GridSearchCV is a meta-estimator\n",
    "- It takes an estimator like DTC and creates a new estimator that behaves exactly the same - in this case, like a classifier.\n",
    "- You should add <em>refit=True</em> and choose verbose to whatever number you want (verbose means the text output describing the process)."
   ]
  },
  {
   "cell_type": "code",
   "execution_count": null,
   "id": "edcb205b-96aa-43a7-a142-1d554f2a9c0d",
   "metadata": {},
   "outputs": [],
   "source": []
  },
  {
   "cell_type": "code",
   "execution_count": null,
   "id": "1cc2bd64-da45-4b57-af59-c35570c8adc8",
   "metadata": {},
   "outputs": [],
   "source": []
  },
  {
   "cell_type": "markdown",
   "id": "3d53153b-b427-4bce-b04d-a8c0eab83d57",
   "metadata": {},
   "source": [
    "What does fit do: \n",
    "- Runs the same loop with cross-validation to find the best parameter combination \n",
    "- Once it has the best combination, it runs fit again on all data passed to fit (without cross-validation) to built a single new model using the best parameter setting"
   ]
  },
  {
   "cell_type": "code",
   "execution_count": null,
   "id": "343e5357-a994-47d4-b0b8-3f22b208876c",
   "metadata": {},
   "outputs": [],
   "source": []
  },
  {
   "cell_type": "markdown",
   "id": "78fb0078-9927-454d-8140-08f0d2c32548",
   "metadata": {},
   "source": [
    "Now let's take that grid model and create some predictions using the test set and create classification reports and confusion matrices for them. Were you able to improve?"
   ]
  },
  {
   "cell_type": "code",
   "execution_count": null,
   "id": "b21cf6cb-16f0-41cf-bb83-bc73f47b5664",
   "metadata": {},
   "outputs": [],
   "source": []
  },
  {
   "cell_type": "code",
   "execution_count": null,
   "id": "e83899bc-b899-4ae7-b6d9-a5d2977e2ffb",
   "metadata": {},
   "outputs": [],
   "source": []
  },
  {
   "cell_type": "markdown",
   "id": "a57bf924-6f02-4b2d-bb47-af042c732cd8",
   "metadata": {},
   "source": [
    "## Pruning\n",
    "\n",
    "Pruning of the DT is done by replacing a whole subtree by a leaf node.\n",
    "If the expected error rate in the subtree is greater thant the single leaf,  it is made the replacement."
   ]
  },
  {
   "cell_type": "markdown",
   "id": "7c3088b6-bb61-41e8-8553-155def726064",
   "metadata": {},
   "source": [
    "When to apply in Decision Trees:\n",
    "- If the node gets very small, do not continue to split\n",
    "- Minimum error (cross-validation) pruning without early stopping is a good technique\n",
    "- Build a full-depth tree and work backward by applying a statistical test during each stage\n",
    "- Prune an interior node and raise the sub-tree beneath it up one level"
   ]
  },
  {
   "cell_type": "code",
   "execution_count": null,
   "id": "7e164522-c920-47bd-9488-6d25ee7370a7",
   "metadata": {},
   "outputs": [],
   "source": []
  },
  {
   "cell_type": "markdown",
   "id": "92012026-bd41-450c-8097-8132180248d0",
   "metadata": {},
   "source": [
    "#### Best Depth Tree"
   ]
  },
  {
   "cell_type": "code",
   "execution_count": null,
   "id": "394eb4e9-0284-4a87-a3ec-3331cf66e616",
   "metadata": {},
   "outputs": [],
   "source": []
  },
  {
   "cell_type": "code",
   "execution_count": null,
   "id": "214820a4-f30b-4630-b121-e269c220aa40",
   "metadata": {},
   "outputs": [],
   "source": []
  },
  {
   "cell_type": "code",
   "execution_count": null,
   "id": "c3f8a3b3-efd3-4ec7-abf8-8b7e3cd46ba3",
   "metadata": {},
   "outputs": [],
   "source": []
  },
  {
   "cell_type": "markdown",
   "id": "7a49dac8-cbbc-42a9-9c2f-2d06002c99ec",
   "metadata": {},
   "source": [
    "You can inspect the best parameters found by GridSearchCV in the **best_params_ attribute**, and the best estimator in the **best\\_estimator_ attribute**:"
   ]
  },
  {
   "cell_type": "code",
   "execution_count": null,
   "id": "34a7dbe2-b96f-4d36-9676-5131bc9bb23c",
   "metadata": {},
   "outputs": [],
   "source": []
  },
  {
   "cell_type": "code",
   "execution_count": null,
   "id": "49c953ff-f353-44e9-8575-49177f914952",
   "metadata": {},
   "outputs": [],
   "source": []
  },
  {
   "cell_type": "code",
   "execution_count": null,
   "id": "a42594f0-c999-4c09-8c18-b921905fd7fe",
   "metadata": {},
   "outputs": [],
   "source": []
  },
  {
   "cell_type": "markdown",
   "id": "a1f2bb36-5a92-4dba-bdb1-b8c7e0d2cc06",
   "metadata": {},
   "source": [
    "#### 1. Plot the tree (dpi=1000)"
   ]
  },
  {
   "cell_type": "code",
   "execution_count": null,
   "id": "dad5bb9f-b9d2-445e-b312-7d3294764c3a",
   "metadata": {},
   "outputs": [],
   "source": []
  },
  {
   "cell_type": "markdown",
   "id": "92821cbe-3546-4ccb-8287-5d7abc73274b",
   "metadata": {},
   "source": [
    "#### 2. Evaluate the model with confusion matrix  and classification report"
   ]
  },
  {
   "cell_type": "code",
   "execution_count": null,
   "id": "94727ca1-0674-4366-9ba6-dd087b1b039c",
   "metadata": {},
   "outputs": [],
   "source": []
  },
  {
   "cell_type": "code",
   "execution_count": null,
   "id": "cce5f07d-9778-4727-a342-69be8172b1c8",
   "metadata": {},
   "outputs": [],
   "source": []
  },
  {
   "cell_type": "markdown",
   "id": "08cf5b75-69bb-4773-9c1c-a6cfe75f0237",
   "metadata": {},
   "source": [
    "#### Pruned Tree"
   ]
  },
  {
   "cell_type": "code",
   "execution_count": null,
   "id": "049fde44-dfa3-416e-bdfb-bde65aa6643f",
   "metadata": {},
   "outputs": [],
   "source": []
  },
  {
   "cell_type": "code",
   "execution_count": null,
   "id": "af64d13e-a2cc-4362-ba5c-89f4a8dc7d0b",
   "metadata": {},
   "outputs": [],
   "source": []
  },
  {
   "cell_type": "code",
   "execution_count": null,
   "id": "64b96cca-91aa-4adb-88bf-add774dd8183",
   "metadata": {},
   "outputs": [],
   "source": []
  },
  {
   "cell_type": "code",
   "execution_count": null,
   "id": "d337f503-7202-4120-a131-22f75f3664f6",
   "metadata": {},
   "outputs": [],
   "source": []
  },
  {
   "cell_type": "code",
   "execution_count": null,
   "id": "dc7d7e1f-8ded-4239-8060-964fa84ebde4",
   "metadata": {},
   "outputs": [],
   "source": []
  },
  {
   "cell_type": "code",
   "execution_count": null,
   "id": "d73dda1f-b377-4095-8ec1-ef1bacdfb48c",
   "metadata": {},
   "outputs": [],
   "source": []
  },
  {
   "cell_type": "markdown",
   "id": "1a56a1ab-142a-465f-adbb-acad577fe66a",
   "metadata": {},
   "source": [
    "#### 1. Plot the tree"
   ]
  },
  {
   "cell_type": "code",
   "execution_count": null,
   "id": "04ae5fb8-422c-4a36-983a-edb973b4330b",
   "metadata": {},
   "outputs": [],
   "source": []
  },
  {
   "cell_type": "markdown",
   "id": "53942225-7a30-459b-a844-0534584098e9",
   "metadata": {},
   "source": [
    "#### 2. Evaluate the model with confusion matrix  and classification report"
   ]
  },
  {
   "cell_type": "code",
   "execution_count": null,
   "id": "be31d173-d6ad-449c-a68e-b9fc3b7dacff",
   "metadata": {},
   "outputs": [],
   "source": []
  },
  {
   "cell_type": "code",
   "execution_count": null,
   "id": "29ae46d9-5134-4f49-ab0d-8c677ae3239d",
   "metadata": {},
   "outputs": [],
   "source": []
  },
  {
   "cell_type": "code",
   "execution_count": null,
   "id": "b7f7de20-ee1a-44fa-be8f-439f0f59fe6d",
   "metadata": {},
   "outputs": [],
   "source": []
  }
 ],
 "metadata": {
  "kernelspec": {
   "display_name": "Python 3 (ipykernel)",
   "language": "python",
   "name": "python3"
  },
  "language_info": {
   "codemirror_mode": {
    "name": "ipython",
    "version": 3
   },
   "file_extension": ".py",
   "mimetype": "text/x-python",
   "name": "python",
   "nbconvert_exporter": "python",
   "pygments_lexer": "ipython3",
   "version": "3.10.12"
  }
 },
 "nbformat": 4,
 "nbformat_minor": 5
}
